{
  "nbformat": 4,
  "nbformat_minor": 0,
  "metadata": {
    "colab": {
      "provenance": [],
      "include_colab_link": true
    },
    "kernelspec": {
      "name": "python3",
      "display_name": "Python 3"
    },
    "language_info": {
      "name": "python"
    }
  },
  "cells": [
    {
      "cell_type": "markdown",
      "metadata": {
        "id": "view-in-github",
        "colab_type": "text"
      },
      "source": [
        "<a href=\"https://colab.research.google.com/github/Shreaj13/Python-Projects/blob/main/Copy_of_PCCI_Pycaret_ML_modeling.ipynb\" target=\"_parent\"><img src=\"https://colab.research.google.com/assets/colab-badge.svg\" alt=\"Open In Colab\"/></a>"
      ]
    },
    {
      "cell_type": "code",
      "execution_count": null,
      "metadata": {
        "id": "aT0Hpo_W6s6k"
      },
      "outputs": [],
      "source": [
        "# Code snippet 0\n",
        "# Installing the pycaret package\n",
        "!pip install -U --pre pycaret"
      ]
    },
    {
      "cell_type": "code",
      "source": [
        "# Code snippet 1\n",
        "# Importing pandas package for data processing\n",
        "import pandas as pd"
      ],
      "metadata": {
        "id": "THfW2ZhTLYXG"
      },
      "execution_count": null,
      "outputs": []
    },
    {
      "cell_type": "code",
      "source": [
        "# Code snippet 2\n",
        "# Assigning the data url\n",
        "data_url = 'https://raw.githubusercontent.com/nvamsimohan/DallasDSA/main/PCCI%20Case%20Data%20CSV.csv'\n",
        "data_url"
      ],
      "metadata": {
        "id": "7RiocRLmKwnw"
      },
      "execution_count": null,
      "outputs": []
    },
    {
      "cell_type": "code",
      "source": [
        "# Code snippet 3\n",
        "# Reading the data from the web URL\n",
        "data = pd.read_csv(data_url)"
      ],
      "metadata": {
        "id": "nrje9WjmNaV9"
      },
      "execution_count": null,
      "outputs": []
    },
    {
      "cell_type": "code",
      "source": [
        "# Code snippet 4\n",
        "# Displaying the data\n",
        "data"
      ],
      "metadata": {
        "id": "pxeYxsB4v5g8"
      },
      "execution_count": null,
      "outputs": []
    },
    {
      "cell_type": "code",
      "source": [
        "# Code snippet 5\n",
        "# Setting the dependent variable\n",
        "y  = 'readmit30'"
      ],
      "metadata": {
        "id": "BdjlCff39jaR"
      },
      "execution_count": null,
      "outputs": []
    },
    {
      "cell_type": "code",
      "source": [
        "# Code snippet 6\n",
        "# Setting the categorical variables\n",
        "cat_cols = [\n",
        "    'weekday',\n",
        "    'month',\n",
        "    'depression',\n",
        "    'sex',\n",
        "    'ethnic_group_c',\n",
        "    'marital_status_c',\n",
        "    'insurance_provider',\n",
        "    'icu_yn',\n",
        "    'tobacco_user',\n",
        "    'drugabuse',\n",
        "    'mooddisorder',\n",
        "    'diabetes',\n",
        "    'anxiety',\n",
        "    'obesity',\n",
        "    'dementia',\n",
        "    'persmentaldis',\n",
        "    'artbloodgas',\n",
        "    'APRDRG',\n",
        "    'Condition',\n",
        "    'care_plan_following_discharge'\n",
        "    ]"
      ],
      "metadata": {
        "id": "xNEeAt6I92If"
      },
      "execution_count": null,
      "outputs": []
    },
    {
      "cell_type": "code",
      "source": [
        "# Code snippet 7\n",
        "# Setting the numerical variables\n",
        "num_cols = ['age',\n",
        " 'bmi',\n",
        " 'bp_diastolic',\n",
        " 'bp_systolic',\n",
        " 'weight',\n",
        " 'height',\n",
        " 'pulse',\n",
        " 'temperature',\n",
        " 'respirations',\n",
        " 'pat_pain_score_c',\n",
        " 'ed_visits',\n",
        " 'ip_visits',\n",
        " 'chronic_conditions',\n",
        " 'meds_cardio_agents',\n",
        " 'meds_nutrition',\n",
        " 'meds_central_nervous_system',\n",
        " 'meds_hematologial',\n",
        " 'meds_neuromuscular',\n",
        " 'meds_gastro',\n",
        " 'meds_infective',\n",
        " 'meds_neoplastic',\n",
        " 'meds_anesthetics',\n",
        " 'meds_endocrine',\n",
        " 'meds_respiratory',\n",
        " 'meds_topical',\n",
        " 'meds_biological',\n",
        " 'meds_misc',\n",
        " 'meds_genitourinary',\n",
        " 'calcium',\n",
        " 'creatinine',\n",
        " 'glucose',\n",
        " 'wbc',\n",
        " 'potassium',\n",
        " 'sodium',\n",
        " 'hemoglobin',\n",
        " 'chest_tube',\n",
        " 'vent',\n",
        " 'los',\n",
        " 'LACE_Score',\n",
        " 'cost_of_initial_stay',\n",
        " 'care_plan_costs',\n",
        " 'cost_of_readmission']"
      ],
      "metadata": {
        "id": "d_1BUIad-PUp"
      },
      "execution_count": null,
      "outputs": []
    },
    {
      "cell_type": "code",
      "source": [
        "# Code snippet 7.1 - running the EDA report\n",
        "!pip install sweetviz\n",
        "import sweetviz as sv\n",
        "report = sv.analyze(data)\n",
        "report.show_html(\"PCCI EDA Report.html\")"
      ],
      "metadata": {
        "id": "JMCmR60CsMgX"
      },
      "execution_count": null,
      "outputs": []
    },
    {
      "cell_type": "code",
      "source": [
        "# Code snippet 8\n",
        "# Setting the ignored variables\n",
        "ignored_cols =  ['patient_key_code_number']"
      ],
      "metadata": {
        "id": "wujCdhdIpE06"
      },
      "execution_count": null,
      "outputs": []
    },
    {
      "cell_type": "code",
      "source": [
        "# Code snippet 9\n",
        "# Importing classification components from pycaret\n",
        "from pycaret.classification import *"
      ],
      "metadata": {
        "id": "yQDB96neLcBw"
      },
      "execution_count": null,
      "outputs": []
    },
    {
      "cell_type": "code",
      "source": [
        "# Code snippet 10\n",
        "# Setting up the Pycaret experiment setup\n",
        "classification_model_setup = setup(data,\n",
        "                 target = y,\n",
        "                 categorical_features= cat_cols,\n",
        "                 ignore_features=ignored_cols,\n",
        "                 numeric_features=num_cols,\n",
        "                 train_size = 0.8)"
      ],
      "metadata": {
        "id": "gsrN_CskMsJH"
      },
      "execution_count": null,
      "outputs": []
    },
    {
      "cell_type": "code",
      "source": [
        "# Code snippet 11\n",
        "# Running the pycaret AutoML process\n",
        "compare_models(budget_time=100) # in seconds"
      ],
      "metadata": {
        "id": "KsHV3AXMPnPU"
      },
      "execution_count": null,
      "outputs": []
    },
    {
      "cell_type": "code",
      "source": [
        "# Code snippet 12\n",
        "# Creating ML with the best algo from the leaderboard\n",
        "model = create_model('lightgbm')"
      ],
      "metadata": {
        "id": "XHd-St_7TyuP"
      },
      "execution_count": null,
      "outputs": []
    },
    {
      "cell_type": "code",
      "source": [
        "# Code snippet 13\n",
        "# Creating the confusion matrix\n",
        "plot_model(model, plot = 'confusion_matrix')"
      ],
      "metadata": {
        "id": "Vq33eCXmtbYw"
      },
      "execution_count": null,
      "outputs": []
    },
    {
      "cell_type": "code",
      "source": [
        "# Code snippet 14\n",
        "# importing the client dataset\n",
        "client_data = pd.read_csv('https://docs.google.com/spreadsheets/d/e/2PACX-1vQaMqCLIdagI2Vhx_7Ax3btcXRhAViBPXjtaPE8BpP2WVWg39_Yj3si-Xcky1A1IgTHg69rdNbCq8zQ/pub?gid=1806522560&single=true&output=csv')\n",
        "client_data.shape"
      ],
      "metadata": {
        "id": "GWiC97VMaIo7"
      },
      "execution_count": null,
      "outputs": []
    },
    {
      "cell_type": "code",
      "source": [
        "# Code snippet 15\n",
        "# Predicting the standard scores using the ML model\n",
        "client_data_predictions = predict_model(model, client_data)"
      ],
      "metadata": {
        "id": "-GfLjrizabzp"
      },
      "execution_count": null,
      "outputs": []
    },
    {
      "cell_type": "code",
      "source": [
        "# Code snippet 16\n",
        "# Displaying the predictions\n",
        "client_data_predictions.head()"
      ],
      "metadata": {
        "id": "rfAH_hTwbGKD"
      },
      "execution_count": null,
      "outputs": []
    },
    {
      "cell_type": "code",
      "source": [
        "# Code snippet 17\n",
        "# Converting the client data pandas df to a csv file\n",
        "client_data_predictions.to_csv(\"PCCI Client data Predictions.csv\")"
      ],
      "metadata": {
        "id": "YU__qCgCcUQd"
      },
      "execution_count": null,
      "outputs": []
    }
  ]
}