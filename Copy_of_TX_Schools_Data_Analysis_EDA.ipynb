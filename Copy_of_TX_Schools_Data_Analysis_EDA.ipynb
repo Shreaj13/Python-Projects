{
  "nbformat": 4,
  "nbformat_minor": 0,
  "metadata": {
    "colab": {
      "provenance": [],
      "include_colab_link": true
    },
    "kernelspec": {
      "name": "python3",
      "display_name": "Python 3"
    },
    "language_info": {
      "name": "python"
    }
  },
  "cells": [
    {
      "cell_type": "markdown",
      "metadata": {
        "id": "view-in-github",
        "colab_type": "text"
      },
      "source": [
        "<a href=\"https://colab.research.google.com/github/Shreaj13/Python-Projects/blob/main/Copy_of_TX_Schools_Data_Analysis_EDA.ipynb\" target=\"_parent\"><img src=\"https://colab.research.google.com/assets/colab-badge.svg\" alt=\"Open In Colab\"/></a>"
      ]
    },
    {
      "cell_type": "code",
      "source": [
        "# Assigning the data url\n",
        "data_url = 'https://raw.githubusercontent.com/nvamsimohan/DallasDSA/main/2021%20Texas%20High%20Schools%20Scores.csv'\n",
        "data_url"
      ],
      "metadata": {
        "id": "7RiocRLmKwnw"
      },
      "execution_count": null,
      "outputs": []
    },
    {
      "cell_type": "code",
      "source": [
        "# Importing pandas package for data processing\n",
        "import pandas"
      ],
      "metadata": {
        "id": "THfW2ZhTLYXG"
      },
      "execution_count": null,
      "outputs": []
    },
    {
      "cell_type": "code",
      "source": [
        "# Reading the data from the web URL\n",
        "data = pandas.read_csv(data_url)\n",
        "\n",
        "# Displaying the data\n",
        "data"
      ],
      "metadata": {
        "id": "nrje9WjmNaV9"
      },
      "execution_count": null,
      "outputs": []
    },
    {
      "cell_type": "code",
      "source": [
        "# Displaying the dataset size/shape\n",
        "data.shape"
      ],
      "metadata": {
        "id": "lQ86vue4SAC6"
      },
      "execution_count": null,
      "outputs": []
    },
    {
      "cell_type": "code",
      "source": [
        "# Displaying the column names\n",
        "data.columns"
      ],
      "metadata": {
        "id": "yf8no1IdTEfK"
      },
      "execution_count": null,
      "outputs": []
    },
    {
      "cell_type": "code",
      "source": [
        "# Displaying the info of columns\n",
        "data.info()"
      ],
      "metadata": {
        "id": "jzdLjgMkTTcy"
      },
      "execution_count": null,
      "outputs": []
    },
    {
      "cell_type": "code",
      "source": [
        "# Displaying statistical descriptive summary of numerical variables\n",
        "data.describe()"
      ],
      "metadata": {
        "id": "eiEBOYLsTkBw"
      },
      "execution_count": null,
      "outputs": []
    },
    {
      "cell_type": "code",
      "source": [
        "# Code snippet 7\n",
        "# Displaying the column names\n",
        "data.columns"
      ],
      "metadata": {
        "id": "0bU00p5Lq6T5"
      },
      "execution_count": null,
      "outputs": []
    },
    {
      "cell_type": "code",
      "source": [
        "# Code snippet 8\n",
        "# Creating predictors variable\n",
        "predictors = ['District',  'City',\n",
        "       'Zip', 'County', 'Is Title I', 'Is Charter', 'Is Magnet',\n",
        "       'Is Virtual', 'Number Students', 'Number Full-time Teachers',\n",
        "       'Student/Teacher Ratio', 'Percent Free/Disc Lunch',\n",
        "       'Percent Homes Rented', 'Percent of Unemployment',\n",
        "       'Percent Parents with Masters and above education',\n",
        "       'Percent parents with less than High School education',\n",
        "       'Percent Home Incomes with less than Median income',\n",
        "       'Standard Score']\n",
        "\n",
        "# Creating a subset of data with only predictor columns\n",
        "data_pred = data[predictors]\n",
        "\n",
        "#Displaying the pred_data columns\n",
        "data_pred.columns"
      ],
      "metadata": {
        "id": "lMHhx74DrAWe"
      },
      "execution_count": null,
      "outputs": []
    },
    {
      "cell_type": "code",
      "source": [
        "# Code snippet 9\n",
        "# Displaying the size of the predictors dataset\n",
        "data_pred.shape"
      ],
      "metadata": {
        "id": "5z0cZPeJsu7g"
      },
      "execution_count": null,
      "outputs": []
    }
  ]
}